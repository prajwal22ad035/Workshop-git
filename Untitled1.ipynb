{
 "cells": [
  {
   "cell_type": "code",
   "execution_count": null,
   "metadata": {},
   "outputs": [],
   "source": [
    "a=input(\"name\")"
   ]
  },
  {
   "cell_type": "code",
   "execution_count": null,
   "metadata": {
    "collapsed": true
   },
   "outputs": [],
   "source": [
    "a=int(input(\"Enter your name..\"))"
   ]
  },
  {
   "cell_type": "code",
   "execution_count": null,
   "metadata": {
    "collapsed": true
   },
   "outputs": [],
   "source": [
    "if (a==2):\n",
    "    print(2+2)\n",
    "elif (a==3):\n",
    "    print(3)\n",
    "elif (a==4):\n",
    "    print(4)\n",
    "else:\n",
    "    print(5)"
   ]
  },
  {
   "cell_type": "code",
   "execution_count": null,
   "metadata": {
    "collapsed": true
   },
   "outputs": [],
   "source": [
    "a= \"HI\"\n",
    "b= True\n",
    "c= 20\n",
    "d= None\n",
    "e=int(input(\"Enter a number\"))\n",
    "if(e==1):\n",
    "    print(\"true\")\n",
    "else:\n",
    "    print(\"false\")\n",
    "print(\"the type of a is \",type(a))\n",
    "print(\"the type of a is \",type(b))\n",
    "print(\"the type of a is \",type(c))\n",
    "print(\"the type of a is \",type(d))"
   ]
  },
  {
   "cell_type": "code",
   "execution_count": null,
   "metadata": {
    "collapsed": true
   },
   "outputs": [],
   "source": [
    "a= \"HI\"\n",
    "b= True\n",
    "c= 20\n",
    "d= None\n",
    "e=int(input(\"Enter a number\"))\n",
    "if(e==1):\n",
    "    print(\"true\")\n",
    "else:\n",
    "    print(\"false\")\n",
    "print(\"the type of a is \",type(a))\n",
    "print(\"the type of b is \",type(b))\n",
    "print(\"the type of c is \",type(c))\n",
    "print(\"the type of d is \",type(d))"
   ]
  },
  {
   "cell_type": "code",
   "execution_count": null,
   "metadata": {
    "collapsed": true
   },
   "outputs": [],
   "source": [
    "a=int(input(\"Enter first number\"))\n",
    "b=int(input(\"Enter second number\"))\n",
    "c=input(\"Enter the operator\")\n",
    "if c=='+':\n",
    "    print(\"Addition of a and b\",a+b)\n",
    "elif c=='-':\n",
    "    print(f\"Subtraction of {a} and {b} is {a-b}\")\n",
    "elif c=='*':\n",
    "    print(\"multiplicaion a and b is\",a*b)\n",
    "elif c=='%':\n",
    "    print(\"Modulous of a and b\",a%b)\n",
    "else:\n",
    "    print(\"Invalid op\")"
   ]
  },
  {
   "cell_type": "code",
   "execution_count": null,
   "metadata": {
    "collapsed": true
   },
   "outputs": [],
   "source": []
  }
 ],
 "metadata": {
  "kernelspec": {
   "display_name": "Python 3",
   "language": "python",
   "name": "python3"
  },
  "language_info": {
   "codemirror_mode": {
    "name": "ipython",
    "version": 3
   },
   "file_extension": ".py",
   "mimetype": "text/x-python",
   "name": "python",
   "nbconvert_exporter": "python",
   "pygments_lexer": "ipython3",
   "version": "3.6.3"
  }
 },
 "nbformat": 4,
 "nbformat_minor": 2
}
